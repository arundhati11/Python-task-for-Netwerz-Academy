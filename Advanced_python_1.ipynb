{
 "cells": [
  {
   "cell_type": "code",
   "execution_count": 12,
   "metadata": {},
   "outputs": [
    {
     "name": "stdout",
     "output_type": "stream",
     "text": [
      "31.400000000000002 78.35\n"
     ]
    }
   ],
   "source": [
    "class circle(object):\n",
    "    def __init__(self,radius):\n",
    "        self.radius = radius\n",
    "        \n",
    "    def area(self):\n",
    "        a = 3.134*(self.radius**2)\n",
    "        return a\n",
    "    def perimeter(self):\n",
    "        p = 2*3.14*self.radius\n",
    "        return p\n",
    "    \n",
    "circle = circle(5)\n",
    "cir_area = circle.area()\n",
    "cir_p = circle.perimeter()\n",
    "print(cir_p,cir_area)"
   ]
  },
  {
   "cell_type": "code",
   "execution_count": 13,
   "metadata": {},
   "outputs": [
    {
     "name": "stdout",
     "output_type": "stream",
     "text": [
      "Mikey is 6 years old\n",
      "Mikey says Gruff Gruff\n"
     ]
    }
   ],
   "source": [
    "class Dog:\n",
    "    species = 'mammal'\n",
    "    def __init__(self,name,age):\n",
    "        self.name = name\n",
    "        self.age = age\n",
    "    def description(self):\n",
    "        return '{} is {} years old'.format(self.name,self.age)\n",
    "    def speak(self,sound):\n",
    "        return '{} says {}'.format(self.name, sound)\n",
    "    \n",
    "mikey = Dog('Mikey',6)\n",
    "print(mikey.description())\n",
    "print(mikey.speak('Gruff Gruff'))"
   ]
  },
  {
   "cell_type": "code",
   "execution_count": null,
   "metadata": {},
   "outputs": [],
   "source": []
  }
 ],
 "metadata": {
  "kernelspec": {
   "display_name": "Python 3",
   "language": "python",
   "name": "python3"
  },
  "language_info": {
   "codemirror_mode": {
    "name": "ipython",
    "version": 3
   },
   "file_extension": ".py",
   "mimetype": "text/x-python",
   "name": "python",
   "nbconvert_exporter": "python",
   "pygments_lexer": "ipython3",
   "version": "3.7.3"
  }
 },
 "nbformat": 4,
 "nbformat_minor": 4
}
