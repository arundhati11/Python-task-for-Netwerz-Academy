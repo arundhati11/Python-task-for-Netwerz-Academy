{
 "cells": [
  {
   "cell_type": "markdown",
   "metadata": {},
   "source": [
    "Given a string convert it to list of words"
   ]
  },
  {
   "cell_type": "code",
   "execution_count": 7,
   "metadata": {},
   "outputs": [
    {
     "name": "stdout",
     "output_type": "stream",
     "text": [
      "['I', 'm', 'g']\n"
     ]
    }
   ],
   "source": [
    "str1 = 'I am learning python'\n",
    "start = 0\n",
    "words = 0\n",
    "l = len(str1)\n",
    "l1 = []\n",
    "for i in range(l):\n",
    "    if str1[i] == ' ':\n",
    "        continue\n",
    "    else:\n",
    "        start = i\n",
    "        break\n",
    "for i in range(start,l-1):\n",
    "    str2 = ''\n",
    "    if str1[i] != ' ' and str1[i+1] == ' ':\n",
    "        str2 = str2+ str1[i]\n",
    "        l1.append(str2)\n",
    "        \n",
    "print(l1)"
   ]
  },
  {
   "cell_type": "code",
   "execution_count": null,
   "metadata": {},
   "outputs": [],
   "source": []
  }
 ],
 "metadata": {
  "kernelspec": {
   "display_name": "Python 3",
   "language": "python",
   "name": "python3"
  },
  "language_info": {
   "codemirror_mode": {
    "name": "ipython",
    "version": 3
   },
   "file_extension": ".py",
   "mimetype": "text/x-python",
   "name": "python",
   "nbconvert_exporter": "python",
   "pygments_lexer": "ipython3",
   "version": "3.7.3"
  }
 },
 "nbformat": 4,
 "nbformat_minor": 4
}
