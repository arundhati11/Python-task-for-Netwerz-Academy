{
 "cells": [
  {
   "cell_type": "markdown",
   "metadata": {},
   "source": [
    "Task10"
   ]
  },
  {
   "cell_type": "markdown",
   "metadata": {},
   "source": [
    "WAP to remove whitespaces at the beginning and end of the string"
   ]
  },
  {
   "cell_type": "code",
   "execution_count": 25,
   "metadata": {},
   "outputs": [
    {
     "name": "stdout",
     "output_type": "stream",
     "text": [
      "4 14\n",
      "Hello World\n"
     ]
    }
   ],
   "source": [
    "#using for loop\n",
    "a = '    Hello World     '\n",
    "l = len(a)\n",
    "#print(l)\n",
    "str1 = ''\n",
    "start = 0\n",
    "end = 0\n",
    "for i in range(l):\n",
    "    if a[i] == ' ':\n",
    "        continue\n",
    "    else:\n",
    "        start = i\n",
    "        break\n",
    "for i in range(l-1,0,-1):\n",
    "    if a[i] == ' ': \n",
    "        continue\n",
    "    else:\n",
    "        stop = i\n",
    "        break\n",
    "print(start,stop)\n",
    "for i in range(start,stop+1):\n",
    "    str1 = str1 + a[i]\n",
    "print(str1)"
   ]
  },
  {
   "cell_type": "markdown",
   "metadata": {},
   "source": [
    "Given a sentence try to count how many words are there"
   ]
  },
  {
   "cell_type": "code",
   "execution_count": 10,
   "metadata": {},
   "outputs": [
    {
     "name": "stdout",
     "output_type": "stream",
     "text": [
      "The no. of words:  4\n"
     ]
    }
   ],
   "source": [
    "a = 'I am learning python'\n",
    "l = len(a)\n",
    "count = 0\n",
    "start = 0\n",
    "for i in range(l):\n",
    "    if a[i] == ' ':\n",
    "        continue\n",
    "    else:\n",
    "        start = i\n",
    "        break\n",
    "for i in range(start,l-1):\n",
    "    if a[i] == \" \" and a[i+1] != ' ':\n",
    "        count = count+1\n",
    "        \n",
    "print('The no. of words: ',count+1)\n",
    "        "
   ]
  },
  {
   "cell_type": "code",
   "execution_count": null,
   "metadata": {},
   "outputs": [],
   "source": []
  }
 ],
 "metadata": {
  "kernelspec": {
   "display_name": "Python 3",
   "language": "python",
   "name": "python3"
  },
  "language_info": {
   "codemirror_mode": {
    "name": "ipython",
    "version": 3
   },
   "file_extension": ".py",
   "mimetype": "text/x-python",
   "name": "python",
   "nbconvert_exporter": "python",
   "pygments_lexer": "ipython3",
   "version": "3.7.3"
  }
 },
 "nbformat": 4,
 "nbformat_minor": 4
}
