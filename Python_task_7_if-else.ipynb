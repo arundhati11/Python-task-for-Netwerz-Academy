{
 "cells": [
  {
   "cell_type": "markdown",
   "metadata": {},
   "source": [
    "# if statement"
   ]
  },
  {
   "cell_type": "code",
   "execution_count": 4,
   "metadata": {},
   "outputs": [],
   "source": [
    "num1 = 5\n",
    "num2 = 6\n",
    "if(num1 == num2):\n",
    "    print('Same')"
   ]
  },
  {
   "cell_type": "code",
   "execution_count": 5,
   "metadata": {},
   "outputs": [
    {
     "name": "stdout",
     "output_type": "stream",
     "text": [
      "Not Same\n"
     ]
    }
   ],
   "source": [
    "if(num1!=num2):\n",
    "    print('Not Same')"
   ]
  },
  {
   "cell_type": "raw",
   "metadata": {},
   "source": [
    "if-else statement"
   ]
  },
  {
   "cell_type": "code",
   "execution_count": 7,
   "metadata": {},
   "outputs": [
    {
     "name": "stdout",
     "output_type": "stream",
     "text": [
      "Not Same\n"
     ]
    }
   ],
   "source": [
    "if(num1 == num2):\n",
    "    print('Same')\n",
    "else:\n",
    "    print('Not Same')"
   ]
  },
  {
   "cell_type": "markdown",
   "metadata": {},
   "source": [
    "# Multiple Conditions"
   ]
  },
  {
   "cell_type": "code",
   "execution_count": 8,
   "metadata": {},
   "outputs": [
    {
     "name": "stdout",
     "output_type": "stream",
     "text": [
      "Valid no.\n"
     ]
    }
   ],
   "source": [
    "num = 6\n",
    "if(num>0 or num%2==0 or num%3==0):\n",
    "    print('Valid no.')"
   ]
  },
  {
   "cell_type": "code",
   "execution_count": 9,
   "metadata": {},
   "outputs": [
    {
     "name": "stdout",
     "output_type": "stream",
     "text": [
      "Divisible by 2\n"
     ]
    }
   ],
   "source": [
    "num = 10\n",
    "if(num>0 or num%2==0):\n",
    "    print('Divisible by 2')\n",
    "elif(num>0 or num%5==0):\n",
    "    print('Divisible by 5')\n",
    "else:\n",
    "    print('Not divisible')"
   ]
  },
  {
   "cell_type": "markdown",
   "metadata": {},
   "source": [
    "# Nested if-else"
   ]
  },
  {
   "cell_type": "code",
   "execution_count": 10,
   "metadata": {},
   "outputs": [
    {
     "name": "stdout",
     "output_type": "stream",
     "text": [
      "Yes\n",
      "Valid no.\n"
     ]
    }
   ],
   "source": [
    "num = 6\n",
    "if (num>0 or num%2==0):\n",
    "    print('Yes')\n",
    "    if( num%3==0):\n",
    "        print('Valid no.')\n",
    "    else:\n",
    "        print('Invalid no.')\n",
    "else:\n",
    "    print('No')"
   ]
  },
  {
   "cell_type": "code",
   "execution_count": 11,
   "metadata": {},
   "outputs": [
    {
     "name": "stdout",
     "output_type": "stream",
     "text": [
      "Divisible by 11\n"
     ]
    }
   ],
   "source": [
    "num = -22\n",
    "if(num <0 or num%2==0):\n",
    "    if(num%11==0):\n",
    "        print('Divisible by 11')\n",
    "    else:\n",
    "        ('Not divisible')\n",
    "else:\n",
    "    print('Try Again')"
   ]
  },
  {
   "cell_type": "code",
   "execution_count": 12,
   "metadata": {},
   "outputs": [
    {
     "name": "stdout",
     "output_type": "stream",
     "text": [
      "Hello\n"
     ]
    }
   ],
   "source": [
    "num=6\n",
    "if(num>0 or num%2==0 or num%3==0):\n",
    "    print('Hello')\n",
    "else:\n",
    "    print('Bye')"
   ]
  },
  {
   "cell_type": "markdown",
   "metadata": {},
   "source": [
    "# Task7"
   ]
  },
  {
   "cell_type": "code",
   "execution_count": 22,
   "metadata": {},
   "outputs": [
    {
     "name": "stdout",
     "output_type": "stream",
     "text": [
      "Enter 1st no.3\n",
      "Enter 2nd no.4\n",
      "1. Press 1 for addition /n 2. Press 2 for subtraction/n 3. Press 3 for multiplication/n 4. Press 4 for division:2\n",
      "The difference is -1\n"
     ]
    }
   ],
   "source": [
    "num1 = int(input('Enter 1st no.'))\n",
    "num2 = int(input('Enter 2nd no.'))\n",
    "num= int(input('1. Press 1 for addition /n 2. Press 2 for subtraction/n 3. Press 3 for multiplication/n 4. Press 4 for division:' ))\n",
    "if(num == 1):\n",
    "    a = num1 + num2\n",
    "    print('The sum is',a)\n",
    "if(num == 2):\n",
    "    s = num1 - num2\n",
    "    print('The difference is',s)\n",
    "if(num == 3):\n",
    "    m = num1 * num2\n",
    "    print('The product is',m)\n",
    "if(num == 4):\n",
    "    d = num1/num2\n",
    "    print('The division is',d)\n"
   ]
  },
  {
   "cell_type": "code",
   "execution_count": null,
   "metadata": {},
   "outputs": [],
   "source": []
  },
  {
   "cell_type": "code",
   "execution_count": null,
   "metadata": {},
   "outputs": [],
   "source": []
  }
 ],
 "metadata": {
  "kernelspec": {
   "display_name": "Python 3",
   "language": "python",
   "name": "python3"
  },
  "language_info": {
   "codemirror_mode": {
    "name": "ipython",
    "version": 3
   },
   "file_extension": ".py",
   "mimetype": "text/x-python",
   "name": "python",
   "nbconvert_exporter": "python",
   "pygments_lexer": "ipython3",
   "version": "3.7.3"
  }
 },
 "nbformat": 4,
 "nbformat_minor": 4
}
