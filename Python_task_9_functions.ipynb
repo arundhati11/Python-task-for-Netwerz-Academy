{
 "cells": [
  {
   "cell_type": "markdown",
   "metadata": {},
   "source": [
    "Loops"
   ]
  },
  {
   "cell_type": "markdown",
   "metadata": {},
   "source": [
    "Task9"
   ]
  },
  {
   "cell_type": "code",
   "execution_count": null,
   "metadata": {},
   "outputs": [],
   "source": [
    "def add(x,y):\n",
    "    sum = x + y\n",
    "    print('The sum is: ',sum)\n",
    "\n",
    "def subtract(x,y):\n",
    "    diff = x - y\n",
    "    print('The difference is: ',diff)\n",
    "    \n",
    "def mul(x,y):\n",
    "    mul = x * y\n",
    "    print('The product is: ',mul)\n",
    "    \n",
    "def div(x,y):\n",
    "    d = x / y\n",
    "    print('The division is: ',d)\n",
    "\n",
    "def main():\n",
    "    num1 = int(input('Enter 1st no.'))\n",
    "    num2 = int(input('Enter second no. '))\n",
    "    choice = int(input('Enter 1 for addition, 2 for subtraction, 3 for multiplication and 4. for division'))\n",
    "    if choice == 1:\n",
    "        add(num1,num2)\n",
    "    if choice == 2:\n",
    "        subtract(num1,num2)\n",
    "    if choice == 3:\n",
    "        mul(num1,num2)\n",
    "    if choice == 4:\n",
    "        div(num1,num2)\n",
    "\n",
    "if __name__==\"__main__\":\n",
    "    main()"
   ]
  },
  {
   "cell_type": "code",
   "execution_count": null,
   "metadata": {},
   "outputs": [],
   "source": []
  }
 ],
 "metadata": {
  "kernelspec": {
   "display_name": "Python 3",
   "language": "python",
   "name": "python3"
  },
  "language_info": {
   "codemirror_mode": {
    "name": "ipython",
    "version": 3
   },
   "file_extension": ".py",
   "mimetype": "text/x-python",
   "name": "python",
   "nbconvert_exporter": "python",
   "pygments_lexer": "ipython3",
   "version": "3.7.3"
  }
 },
 "nbformat": 4,
 "nbformat_minor": 4
}
