{
 "cells": [
  {
   "cell_type": "markdown",
   "metadata": {},
   "source": [
    "Scope"
   ]
  },
  {
   "cell_type": "markdown",
   "metadata": {},
   "source": [
    "Local Scope - varibale can be accessed within the function only"
   ]
  },
  {
   "cell_type": "code",
   "execution_count": 4,
   "metadata": {},
   "outputs": [
    {
     "name": "stdout",
     "output_type": "stream",
     "text": [
      "10\n"
     ]
    }
   ],
   "source": [
    "def func1():\n",
    "    x = 10\n",
    "    print(x)\n",
    "func1()\n",
    "#print(x)"
   ]
  },
  {
   "cell_type": "markdown",
   "metadata": {},
   "source": [
    "Enclosing scope"
   ]
  },
  {
   "cell_type": "code",
   "execution_count": 7,
   "metadata": {},
   "outputs": [
    {
     "name": "stdout",
     "output_type": "stream",
     "text": [
      "300\n"
     ]
    }
   ],
   "source": [
    "def myfunc():\n",
    "    x = 300\n",
    "    def my_inner_func():\n",
    "        print(x)\n",
    "    my_inner_func()\n",
    "    \n",
    "myfunc()"
   ]
  },
  {
   "cell_type": "markdown",
   "metadata": {},
   "source": [
    "Global scope\n"
   ]
  },
  {
   "cell_type": "code",
   "execution_count": 12,
   "metadata": {},
   "outputs": [
    {
     "name": "stdout",
     "output_type": "stream",
     "text": [
      "global ==  300\n",
      "my_func ==  300\n",
      "my_inner_func ==  300\n"
     ]
    }
   ],
   "source": [
    "x = 300\n",
    "def myfunc():\n",
    "    print('my_func == ',x)\n",
    "    def my_inner_func():\n",
    "        print('my_inner_func == ',x)\n",
    "    my_inner_func()\n",
    "    \n",
    "\n",
    "print('global == ',x)\n",
    "myfunc()"
   ]
  },
  {
   "cell_type": "markdown",
   "metadata": {},
   "source": [
    "Change global variables inside functions"
   ]
  },
  {
   "cell_type": "code",
   "execution_count": 13,
   "metadata": {},
   "outputs": [
    {
     "name": "stdout",
     "output_type": "stream",
     "text": [
      "local ==  200\n",
      "global 300\n"
     ]
    }
   ],
   "source": [
    "x = 300\n",
    "def myfunc():\n",
    "    x = 200\n",
    "    print('local == ',x)\n",
    "myfunc()\n",
    "print('global',x)"
   ]
  },
  {
   "cell_type": "markdown",
   "metadata": {},
   "source": [
    "Global keyword"
   ]
  },
  {
   "cell_type": "code",
   "execution_count": 14,
   "metadata": {},
   "outputs": [
    {
     "name": "stdout",
     "output_type": "stream",
     "text": [
      "local ==  200\n",
      "global ==  200\n"
     ]
    }
   ],
   "source": [
    "x = 300\n",
    "def myfunc():\n",
    "    global x\n",
    "    x = 200\n",
    "    print('local == ',x)\n",
    "myfunc()\n",
    "print('global == ',x)"
   ]
  },
  {
   "cell_type": "markdown",
   "metadata": {},
   "source": [
    "order of execution - local,enclosing,global"
   ]
  },
  {
   "cell_type": "code",
   "execution_count": 16,
   "metadata": {},
   "outputs": [
    {
     "name": "stdout",
     "output_type": "stream",
     "text": [
      "1\n"
     ]
    }
   ],
   "source": [
    "y = 1000\n",
    "def func1():\n",
    "    y=1000\n",
    "    def func2():\n",
    "        y=10\n",
    "        def func3():\n",
    "            y=1\n",
    "            print(y)\n",
    "        func3()\n",
    "    func2()\n",
    "func1()\n",
    "            "
   ]
  },
  {
   "cell_type": "code",
   "execution_count": null,
   "metadata": {},
   "outputs": [],
   "source": []
  }
 ],
 "metadata": {
  "kernelspec": {
   "display_name": "Python 3",
   "language": "python",
   "name": "python3"
  },
  "language_info": {
   "codemirror_mode": {
    "name": "ipython",
    "version": 3
   },
   "file_extension": ".py",
   "mimetype": "text/x-python",
   "name": "python",
   "nbconvert_exporter": "python",
   "pygments_lexer": "ipython3",
   "version": "3.7.3"
  }
 },
 "nbformat": 4,
 "nbformat_minor": 4
}
